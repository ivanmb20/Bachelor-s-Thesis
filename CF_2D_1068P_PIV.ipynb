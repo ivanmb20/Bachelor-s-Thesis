{
 "cells": [
  {
   "cell_type": "code",
   "execution_count": 3,
   "id": "9f2c9c63",
   "metadata": {},
   "outputs": [],
   "source": [
    "import matplotlib.pyplot as plt\n",
    "import numpy as np\n",
    "from openpiv import tools, validation, filters, scaling, pyprocess\n",
    "# from openpivImages import readImages, readImagesFromFolder, readImagesFromFile\n",
    "import imageio\n",
    "import importlib_resources\n",
    "import pathlib\n",
    "from PIL import Image\n",
    "import os"
   ]
  },
  {
   "cell_type": "code",
   "execution_count": 4,
   "id": "12999a31",
   "metadata": {},
   "outputs": [
    {
     "name": "stdout",
     "output_type": "stream",
     "text": [
      "Total number of float64 values in serialTime: 102\n",
      "Total number of float64 values in serialPositions: 217872\n",
      "Total number of float64 values in serialVelocities: 217872 \n",
      "\n",
      "Number of steps in dataT:  102\n",
      "Number of steps in dataX:  102\n",
      "Number of steps in dataV:  102 \n",
      "\n",
      "dataT shape should be: (102, 1068, 2)\n",
      "dataX shape should be: (102, 1068, 2)\n",
      "dataV shape should be: (102, 1068, 2) \n",
      "\n",
      "Number of bytes in dataT:  102\n",
      "Number of bytes in dataX:  217872\n",
      "Number of bytes in dataV:  217872 \n",
      "\n",
      "dataT new shape is :  (102,)\n",
      "dataX new shape is :  (102, 1068, 2)\n",
      "dataV new shape is :  (102, 1068, 2)\n"
     ]
    }
   ],
   "source": [
    "# Parameters of the simulation\n",
    "N=1068\n",
    "box_size=91.8\n",
    "h=0.0001\n",
    "\n",
    "# Folder path\n",
    "parent_file = \"C:/Users/ivan_/Desktop/Tesis/Python_scripts/Jupyter/V40/\"\n",
    "\n",
    "# Recover the time, positions and velocities data files\n",
    "\n",
    "# Time\n",
    "with open(parent_file+\"serialTime.bin\",\"rb\") as f:\n",
    "    dataT=np.fromfile(f,dtype=np.float64)\n",
    "\n",
    "# Positions\n",
    "with open(parent_file+\"serialPositions.bin\", \"rb\") as f:\n",
    "    dataX=np.fromfile(f,dtype=np.float64) \n",
    "\n",
    "# Velocities\n",
    "with open(parent_file+\"serialVelocities.bin\", \"rb\") as f:\n",
    "    dataV=np.fromfile(f,dtype=np.float64)\n",
    "\n",
    "\n",
    "print(\"Total number of float64 values in serialTime:\", dataT.size)\n",
    "print(\"Total number of float64 values in serialPositions:\", dataX.size)\n",
    "print(\"Total number of float64 values in serialVelocities:\", dataV.size, \"\\n\")\n",
    "\n",
    "# Get the number of steps\n",
    "T_steps = dataT.size\n",
    "X_steps = dataX.size // (N * 2)\n",
    "V_steps = dataV.size // (N * 2)\n",
    "\n",
    "print(\"Number of steps in dataT: \", T_steps)\n",
    "print(\"Number of steps in dataX: \", X_steps)\n",
    "print(\"Number of steps in dataV: \", V_steps, \"\\n\")\n",
    "\n",
    "print(\"dataT shape should be:\", (T_steps, N, 2))\n",
    "print(\"dataX shape should be:\", (X_steps, N, 2))\n",
    "print(\"dataV shape should be:\", (V_steps, N, 2), \"\\n\")\n",
    "\n",
    "# Number of bytes \n",
    "print(\"Number of bytes in dataT: \", dataT.size)\n",
    "print(\"Number of bytes in dataX: \", dataX.size)\n",
    "print(\"Number of bytes in dataV: \", dataV.size,\"\\n\")\n",
    "\n",
    "# Reshape the data in binary files  \n",
    "#dataT = dataT.reshape((T_steps, N))\n",
    "dataX = dataX.reshape((X_steps,N,2))\n",
    "dataV = dataV.reshape((V_steps,N,2))\n",
    "\n",
    "print(\"dataT new shape is : \", dataT.shape)\n",
    "print(\"dataX new shape is : \", dataX.shape)\n",
    "print(\"dataV new shape is : \", dataV.shape)\n",
    "\n",
    "skip_step = 50\n",
    "positions_skip = dataX[skip_step:]\n"
   ]
  },
  {
   "cell_type": "code",
   "execution_count": 5,
   "id": "0655078b",
   "metadata": {},
   "outputs": [
    {
     "data": {
      "text/plain": [
       "4273"
      ]
     },
     "execution_count": 5,
     "metadata": {},
     "output_type": "execute_result"
    }
   ],
   "source": [
    "# Average velocities graph\n",
    "\n",
    "with open(parent_file+\"average_velocitiesJ.bin\",\"rb\") as f:\n",
    "    avData=np.fromfile(f,dtype=np.float64)\n",
    "\n",
    "avData_size=avData.size\n",
    "\n",
    "float_size=8\n",
    "block_size=float_size+N*2*float_size+N*2*float_size\n",
    "\n",
    "num_blocks=len(avData)\n",
    "\n",
    "avData_size"
   ]
  }
 ],
 "metadata": {
  "kernelspec": {
   "display_name": "Python 3",
   "language": "python",
   "name": "python3"
  },
  "language_info": {
   "codemirror_mode": {
    "name": "ipython",
    "version": 3
   },
   "file_extension": ".py",
   "mimetype": "text/x-python",
   "name": "python",
   "nbconvert_exporter": "python",
   "pygments_lexer": "ipython3",
   "version": "3.11.9"
  }
 },
 "nbformat": 4,
 "nbformat_minor": 5
}
